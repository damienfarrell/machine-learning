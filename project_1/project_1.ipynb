{
 "cells": [
  {
   "cell_type": "markdown",
   "metadata": {},
   "source": [
    "# **Machine Learning: Project Part 1**\n",
    "\n",
    "---\n",
    "\n",
    "**Author: Damien Farrell**\n",
    "\n",
    "---"
   ]
  },
  {
   "cell_type": "code",
   "execution_count": 1,
   "metadata": {},
   "outputs": [
    {
     "name": "stderr",
     "output_type": "stream",
     "text": [
      "INFO:speechbrain.utils.quirks:Applied quirks (see `speechbrain.utils.quirks`): [disable_jit_profiling, allow_tf32]\n",
      "INFO:speechbrain.utils.quirks:Excluded quirks specified by the `SB_DISABLE_QUIRKS` environment (comma-separated list): []\n"
     ]
    }
   ],
   "source": [
    "# Imports\n",
    "\n",
    "import os\n",
    "import whisper\n",
    "import numpy as np\n",
    "from dotenv import load_dotenv\n",
    "\n",
    "from pyannote.audio import Pipeline\n",
    "from pyannote.audio.pipelines.utils.hook import ProgressHook"
   ]
  },
  {
   "cell_type": "code",
   "execution_count": 2,
   "metadata": {},
   "outputs": [],
   "source": [
    "# Environment Variables\n",
    "load_dotenv()\n",
    "HF_API_KEY = os.getenv(\"HF_API_KEY\")\n",
    "assert HF_API_KEY, \"Please set your Hugging Face API key in the HF_API_KEY environment variable.\"\n",
    "\n",
    "# Audio File Path\n",
    "AUDIO_FILE_PATH = \"./audio/TrumpHarrisDebate.wav\"\n",
    "assert AUDIO_FILE_PATH, \"Please place your audio in a folder called 'audio'. Note: use backslashes if on Windows\""
   ]
  },
  {
   "cell_type": "markdown",
   "metadata": {},
   "source": [
    "## **Project Part 1: Interview/Debate Audio Analysis**\n",
    "\n",
    "> 1. **Performs Speaker Diarisation Analysis**  \n",
    ">    - Uses pre-built models to identify who spoke and when.  \n",
    ">    - Outputs time segments for each speaker and calculates total speaking time.\n",
    "> <br><br>\n",
    "> 2. **Performs Speech to Text Analysis**  \n",
    ">    - Transcribes the audio for each speaker.  \n",
    ">    - Combines speaker labels with the transcript (e.g., “[Speaker 1] …”).  \n",
    ">    - Allows for further analysis, such as word counts or word frequency per speaker.\n",
    "> <br><br>\n",
    "> 3. **Leverages a Large Language Model**  \n",
    ">    - Once the transcript is annotated, the notebook can query a large language model for sentiment or ideological analysis.  \n",
    ">    - Could identify speaker names or approximate political leanings based on transcript content.\n",
    "> <br><br>\n",
    "> 4. **Testing & Evaluation**  \n",
    ">    - An audio file of the “Harris vs. Trump 2024 US Presidential Debate” will be provided for initial testing.  \n",
    ">    - A more complex file (with additional speakers or speakers of similar gender) should be used for further evaluation.  \n",
    ">    - The performance of each component should be documented and assessed.\n",
    "> <br><br>\n"
   ]
  },
  {
   "cell_type": "markdown",
   "metadata": {},
   "source": [
    "---\n",
    "\n",
    "### **1. Performs Speaker Diarisation Analysis** \n",
    "\n",
    "---"
   ]
  },
  {
   "cell_type": "code",
   "execution_count": 3,
   "metadata": {},
   "outputs": [],
   "source": [
    "# instantiate the pipeline\n",
    "pipeline = Pipeline.from_pretrained(\n",
    "  \"pyannote/speaker-diarization-3.1\",\n",
    "  use_auth_token=\"HF_API_KEY\")"
   ]
  },
  {
   "cell_type": "code",
   "execution_count": 4,
   "metadata": {
    "scrolled": true
   },
   "outputs": [
    {
     "data": {
      "application/vnd.jupyter.widget-view+json": {
       "model_id": "6fc8a4fad02b4148ad6cf6ac05de8d89",
       "version_major": 2,
       "version_minor": 0
      },
      "text/plain": [
       "Output()"
      ]
     },
     "metadata": {},
     "output_type": "display_data"
    },
    {
     "data": {
      "text/html": [
       "<pre style=\"white-space:pre;overflow-x:auto;line-height:normal;font-family:Menlo,'DejaVu Sans Mono',consolas,'Courier New',monospace\">/home/damien/Documents/ATU/machine-learning/.venv/lib/python3.12/site-packages/pyannote/audio/models/blocks/pooling\n",
       ".py:104: UserWarning: std(): degrees of freedom is &lt;= 0. Correction should be strictly less than the reduction \n",
       "factor (input numel divided by output numel). (Triggered internally at ../aten/src/ATen/native/ReduceOps.cpp:1823.)\n",
       "  std = sequences.std(dim=-1, correction=1)\n",
       "</pre>\n"
      ],
      "text/plain": [
       "/home/damien/Documents/ATU/machine-learning/.venv/lib/python3.12/site-packages/pyannote/audio/models/blocks/pooling\n",
       ".py:104: UserWarning: std(): degrees of freedom is <= 0. Correction should be strictly less than the reduction \n",
       "factor (input numel divided by output numel). (Triggered internally at ../aten/src/ATen/native/ReduceOps.cpp:1823.)\n",
       "  std = sequences.std(dim=-1, correction=1)\n"
      ]
     },
     "metadata": {},
     "output_type": "display_data"
    },
    {
     "data": {
      "text/html": [
       "<pre style=\"white-space:pre;overflow-x:auto;line-height:normal;font-family:Menlo,'DejaVu Sans Mono',consolas,'Courier New',monospace\"></pre>\n"
      ],
      "text/plain": []
     },
     "metadata": {},
     "output_type": "display_data"
    }
   ],
   "source": [
    "# run the pipeline on an audio file\n",
    "with ProgressHook() as hook:\n",
    "    diarisation = pipeline(AUDIO_FILE_PATH, hook=hook)"
   ]
  },
  {
   "cell_type": "code",
   "execution_count": 5,
   "metadata": {},
   "outputs": [
    {
     "name": "stdout",
     "output_type": "stream",
     "text": [
      "[ 00:00:01.836 -->  00:00:03.034] A SPEAKER_02\n",
      "[ 00:00:03.152 -->  00:00:04.671] B SPEAKER_02\n",
      "[ 00:00:04.806 -->  00:00:05.211] C SPEAKER_02\n",
      "[ 00:00:06.679 -->  00:00:10.037] D SPEAKER_00\n",
      "[ 00:00:10.257 -->  00:00:20.449] E SPEAKER_01\n",
      "[ 00:00:20.922 -->  00:00:29.697] F SPEAKER_02\n",
      "[ 00:00:30.068 -->  00:00:52.512] G SPEAKER_01\n",
      "[ 00:00:52.799 -->  00:00:55.600] H SPEAKER_02\n",
      "[ 00:00:56.039 -->  00:01:22.566] I SPEAKER_02\n",
      "[ 00:01:23.005 -->  00:01:37.214] J SPEAKER_01\n",
      "[ 00:01:37.214 -->  00:01:37.281] K SPEAKER_00\n",
      "[ 00:01:37.669 -->  00:01:42.512] L SPEAKER_00\n",
      "[ 00:01:40.352 -->  00:01:41.196] M SPEAKER_02\n",
      "[ 00:01:43.187 -->  00:01:45.060] N SPEAKER_02\n",
      "[ 00:01:46.259 -->  00:01:49.245] O SPEAKER_00\n",
      "[ 00:01:48.385 -->  00:01:55.607] P SPEAKER_01\n",
      "[ 00:01:49.887 -->  00:01:51.861] Q SPEAKER_00\n",
      "[ 00:01:55.624 -->  00:02:08.230] R SPEAKER_00\n",
      "[ 00:02:08.230 -->  00:02:11.267] S SPEAKER_02\n",
      "[ 00:02:11.892 -->  00:02:19.637] T SPEAKER_02\n",
      "[ 00:02:20.076 -->  00:02:26.252] U SPEAKER_02\n",
      "[ 00:02:26.708 -->  00:02:37.862] V SPEAKER_02\n",
      "[ 00:02:38.115 -->  00:02:39.854] W SPEAKER_02\n",
      "[ 00:02:39.854 -->  00:02:54.788] X SPEAKER_01\n",
      "[ 00:02:39.989 -->  00:02:40.478] Y SPEAKER_02\n",
      "[ 00:02:54.940 -->  00:03:00.120] Z SPEAKER_02\n",
      "[ 00:03:00.593 -->  00:03:05.284] AA SPEAKER_02\n",
      "[ 00:03:05.858 -->  00:03:07.765] AB SPEAKER_02\n",
      "[ 00:03:09.284 -->  00:03:10.414] AC SPEAKER_02\n",
      "[ 00:03:10.752 -->  00:03:23.594] AD SPEAKER_01\n"
     ]
    }
   ],
   "source": [
    "print(diarisation)"
   ]
  },
  {
   "cell_type": "code",
   "execution_count": 6,
   "metadata": {},
   "outputs": [
    {
     "data": {
      "image/png": "[encoded data removed]",
      "text/plain": [
       "<pyannote.core.annotation.Annotation at 0x78e876c37e00>"
      ]
     },
     "execution_count": 6,
     "metadata": {},
     "output_type": "execute_result"
    }
   ],
   "source": [
    "diarisation.support()"
   ]
  },
  {
   "cell_type": "markdown",
   "metadata": {},
   "source": [
    "---\n",
    "\n",
    "### **2. Performs Speech to Text Analysis** \n",
    "\n",
    "---"
   ]
  },
  {
   "cell_type": "code",
   "execution_count": 7,
   "metadata": {},
   "outputs": [
    {
     "name": "stderr",
     "output_type": "stream",
     "text": [
      "100%|█████████████████████████████████████| 72.1M/72.1M [00:00<00:00, 92.3MiB/s]\n",
      "/home/damien/Documents/ATU/machine-learning/.venv/lib/python3.12/site-packages/whisper/__init__.py:150: FutureWarning: You are using `torch.load` with `weights_only=False` (the current default value), which uses the default pickle module implicitly. It is possible to construct malicious pickle data which will execute arbitrary code during unpickling (See https://github.com/pytorch/pytorch/blob/main/SECURITY.md#untrusted-models for more details). In a future release, the default value for `weights_only` will be flipped to `True`. This limits the functions that could be executed during unpickling. Arbitrary objects will no longer be allowed to be loaded via this mode unless they are explicitly allowlisted by the user via `torch.serialization.add_safe_globals`. We recommend you start setting `weights_only=True` for any use case where you don't have full control of the loaded file. Please open an issue on GitHub for any issues related to this experimental feature.\n",
      "  checkpoint = torch.load(fp, map_location=device)\n",
      "/home/damien/Documents/ATU/machine-learning/.venv/lib/python3.12/site-packages/whisper/transcribe.py:132: UserWarning: FP16 is not supported on CPU; using FP32 instead\n",
      "  warnings.warn(\"FP16 is not supported on CPU; using FP32 instead\")\n"
     ]
    },
    {
     "name": "stdout",
     "output_type": "stream",
     "text": [
      "Detected language: English\n"
     ]
    },
    {
     "name": "stderr",
     "output_type": "stream",
     "text": [
      " 99%|█████████████████████████████▌| 22100/22381 [00:15<00:00, 1446.61frames/s]\n"
     ]
    }
   ],
   "source": [
    "model = whisper.load_model(\"tiny.en\")\n",
    "result = model.transcribe(AUDIO_FILE_PATH, verbose=False, fp16=False)"
   ]
  },
  {
   "cell_type": "code",
   "execution_count": 8,
   "metadata": {},
   "outputs": [
    {
     "name": "stdout",
     "output_type": "stream",
     "text": [
      " Come on Harris. It's up good to be. Thank you. Welcome to you both. It's wonderful to have you. It's an honor to have you both here tonight. We have inflation like very few people have ever seen before. Probably the worst in our nation's history. This has been a disaster for people for the middle class, but for every class. Donald Trump left us the worst unemployment since the Great Depression. And what we have done is clean up Donald Trump's mess. She's a Marxist. Everybody knows she's a Marxist. Her father's a Marxist professor in economics, and he taught her well. But her vice presidential picks says abortion in the ninth month is absolutely fine. He also says execution after birth. It's execution. No longer abortion because the baby is born is okay. And that's not okay with me. Donald does not have to abandon their faith or deeply held beliefs to agree. The government and Donald Trump certainly should not be telling a woman what to do with her body. Pregnant women who want to carry a pregnancy to term suffering from a miscarriage being denied care. It an emergency room because they healthcare providers are afraid they might go to jail. And she's bleeding out in a car in the parking lot. She didn't want that. Her husband didn't want that. In Springfield, they're eating the dogs. The people that came in, they're eating the cats. They're eating their eating the pets of the people that live there. And this is what's happening in our country. Again, the Springfield City Manager says there's no evidence of that. Vice President Harris, I'll let you respond to the rest of what you've heard. You talked about extreme. Are you now acknowledging that you've lost in 2020? I don't. I said that, it was that. It was that. It was that. It was that we lost by a whisker. That was said sarcastically. Mr. President, thank you. Vice President Harris, you heard the President there tonight. He said he didn't say that. That he lost by whisker. So he still believes he did not lose the election. That was won by President Biden and yourself. Donald Trump was fired by 81 million people. So let's be clear about that. And clearly he is having a very difficult time processing that. World leaders are laughing at Donald Trump. I have talked with military leaders, some of whom work with you. And they say you're a disgrace. Understand what it would mean if Donald Trump were back in the White House with no guardrails. Because certainly we know now the court won't stop him. We know JD Vance is not going to stop him. It's up to the American people. We got to see this. This is the one that weaponized. Not me. She weaponized. She's probably took a bullet to the head because of the things that they say about me. They talk about democracy. I'm a threat to democracy. There the threat to democracy. So I think you've heard tonight two very different visions for our country. One that is focused on the future. And the other that is focused on the past. And an attempt to take us backward. But we're not going back. We've had three and a half years to create jobs. And all the things we talked about why hasn't she done it. The worst president, the worst vice president in the history of our country.\n"
     ]
    }
   ],
   "source": [
    "print(result[\"text\"])"
   ]
  },
  {
   "cell_type": "code",
   "execution_count": null,
   "metadata": {},
   "outputs": [],
   "source": []
  },
  {
   "cell_type": "markdown",
   "metadata": {
    "jp-MarkdownHeadingCollapsed": true
   },
   "source": [
    "---\n",
    "\n",
    "### **References**\n",
    "\n",
    "1. https://huggingface.co/pyannote/segmentation\n",
    "2. http://pyannote.github.io/pyannote-core/reference.html#annotation"
   ]
  },
  {
   "cell_type": "markdown",
   "metadata": {},
   "source": [
    "---\n",
    "\n",
    "# END"
   ]
  }
 ],
 "metadata": {
  "kernelspec": {
   "display_name": "Python 3 (ipykernel)",
   "language": "python",
   "name": "python3"
  },
  "language_info": {
   "codemirror_mode": {
    "name": "ipython",
    "version": 3
   },
   "file_extension": ".py",
   "mimetype": "text/x-python",
   "name": "python",
   "nbconvert_exporter": "python",
   "pygments_lexer": "ipython3",
   "version": "3.12.8"
  }
 },
 "nbformat": 4,
 "nbformat_minor": 4
}
