{
 "cells": [
  {
   "cell_type": "markdown",
   "metadata": {},
   "source": [
    "# Test"
   ]
  },
  {
   "cell_type": "code",
   "execution_count": 1,
   "metadata": {},
   "outputs": [],
   "source": [
    "import os\n",
    "import torch\n",
    "import librosa\n",
    "import numpy as np\n",
    "from dotenv import load_dotenv\n",
    "from pydub import AudioSegment\n",
    "\n",
    "from pyannote.audio import Pipeline\n",
    "from transformers import pipeline as hf_pipeline\n",
    "\n",
    "load_dotenv()\n",
    "\n",
    "secret_key = os.environ.get(\"../HF_API_KEY\")"
   ]
  },
  {
   "cell_type": "code",
   "execution_count": 2,
   "metadata": {},
   "outputs": [
    {
     "name": "stderr",
     "output_type": "stream",
     "text": [
      "INFO:speechbrain.utils.quirks:Applied quirks (see `speechbrain.utils.quirks`): [allow_tf32, disable_jit_profiling]\n",
      "INFO:speechbrain.utils.quirks:Excluded quirks specified by the `SB_DISABLE_QUIRKS` environment (comma-separated list): []\n"
     ]
    }
   ],
   "source": [
    "# instantiate the pipeline\n",
    "from pyannote.audio import Pipeline\n",
    "pipeline = Pipeline.from_pretrained(\n",
    "  \"pyannote/speaker-diarization-3.1\",\n",
    "  use_auth_token=\"HF_API_KEY\")"
   ]
  },
  {
   "cell_type": "markdown",
   "metadata": {},
   "source": [
    "FINALLY!!!!!!!"
   ]
  },
  {
   "cell_type": "code",
   "execution_count": 4,
   "metadata": {},
   "outputs": [
    {
     "data": {
      "text/plain": [
       "<_io.BufferedRandom name='./audio/TrumpHarrisDebate.wav'>"
      ]
     },
     "execution_count": 4,
     "metadata": {},
     "output_type": "execute_result"
    }
   ],
   "source": [
    "# Load the MP3 file\n",
    "audio = AudioSegment.from_mp3(\"./audio/TrumpHarrisDebate.mp3\")\n",
    "\n",
    "# Export as WAV\n",
    "audio.export(\"./audio/TrumpHarrisDebate.wav\", format=\"wav\")"
   ]
  },
  {
   "cell_type": "code",
   "execution_count": 5,
   "metadata": {},
   "outputs": [
    {
     "name": "stderr",
     "output_type": "stream",
     "text": [
      "/home/damien/Documents/ATU/machine-learning/.venv/lib/python3.12/site-packages/pyannote/audio/models/blocks/pooling.py:104: UserWarning: std(): degrees of freedom is <= 0. Correction should be strictly less than the reduction factor (input numel divided by output numel). (Triggered internally at ../aten/src/ATen/native/ReduceOps.cpp:1823.)\n",
      "  std = sequences.std(dim=-1, correction=1)\n"
     ]
    }
   ],
   "source": [
    "# run the pipeline on an audio file\n",
    "diarization = pipeline(\"./audio/TrumpHarrisDebate.wav\")"
   ]
  },
  {
   "cell_type": "code",
   "execution_count": 7,
   "metadata": {},
   "outputs": [
    {
     "name": "stdout",
     "output_type": "stream",
     "text": [
      "[ 00:00:01.836 -->  00:00:03.034] A SPEAKER_02\n",
      "[ 00:00:03.152 -->  00:00:04.671] B SPEAKER_02\n",
      "[ 00:00:04.806 -->  00:00:05.211] C SPEAKER_02\n",
      "[ 00:00:06.679 -->  00:00:10.037] D SPEAKER_00\n",
      "[ 00:00:10.257 -->  00:00:20.449] E SPEAKER_01\n",
      "[ 00:00:20.922 -->  00:00:29.697] F SPEAKER_02\n",
      "[ 00:00:30.068 -->  00:00:52.512] G SPEAKER_01\n",
      "[ 00:00:52.799 -->  00:00:55.600] H SPEAKER_02\n",
      "[ 00:00:56.039 -->  00:01:22.566] I SPEAKER_02\n",
      "[ 00:01:23.005 -->  00:01:37.214] J SPEAKER_01\n",
      "[ 00:01:37.214 -->  00:01:37.281] K SPEAKER_00\n",
      "[ 00:01:37.669 -->  00:01:42.512] L SPEAKER_00\n",
      "[ 00:01:40.352 -->  00:01:41.196] M SPEAKER_02\n",
      "[ 00:01:43.187 -->  00:01:45.060] N SPEAKER_02\n",
      "[ 00:01:46.259 -->  00:01:49.245] O SPEAKER_00\n",
      "[ 00:01:48.385 -->  00:01:55.607] P SPEAKER_01\n",
      "[ 00:01:49.887 -->  00:01:51.861] Q SPEAKER_00\n",
      "[ 00:01:55.624 -->  00:02:08.230] R SPEAKER_00\n",
      "[ 00:02:08.230 -->  00:02:11.267] S SPEAKER_02\n",
      "[ 00:02:11.892 -->  00:02:19.637] T SPEAKER_02\n",
      "[ 00:02:20.076 -->  00:02:26.252] U SPEAKER_02\n",
      "[ 00:02:26.708 -->  00:02:37.862] V SPEAKER_02\n",
      "[ 00:02:38.115 -->  00:02:39.854] W SPEAKER_02\n",
      "[ 00:02:39.854 -->  00:02:54.788] X SPEAKER_01\n",
      "[ 00:02:39.989 -->  00:02:40.478] Y SPEAKER_02\n",
      "[ 00:02:54.940 -->  00:03:00.120] Z SPEAKER_02\n",
      "[ 00:03:00.593 -->  00:03:05.284] AA SPEAKER_02\n",
      "[ 00:03:05.858 -->  00:03:07.765] AB SPEAKER_02\n",
      "[ 00:03:09.284 -->  00:03:10.414] AC SPEAKER_02\n",
      "[ 00:03:10.752 -->  00:03:23.594] AD SPEAKER_01\n"
     ]
    }
   ],
   "source": [
    "print(diarization)"
   ]
  }
 ],
 "metadata": {
  "kernelspec": {
   "display_name": "Python 3 (ipykernel)",
   "language": "python",
   "name": "python3"
  },
  "language_info": {
   "codemirror_mode": {
    "name": "ipython",
    "version": 3
   },
   "file_extension": ".py",
   "mimetype": "text/x-python",
   "name": "python",
   "nbconvert_exporter": "python",
   "pygments_lexer": "ipython3",
   "version": "3.12.8"
  }
 },
 "nbformat": 4,
 "nbformat_minor": 4
}
