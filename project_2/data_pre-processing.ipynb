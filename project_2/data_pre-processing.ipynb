{
 "cells": [
  {
   "cell_type": "markdown",
   "id": "cbc3e30c-539d-4cce-a8ae-0f94a0fd18d5",
   "metadata": {},
   "source": [
    "# **Machine Learning: Project Part 2**\n",
    "\n",
    "---\n",
    "\n",
    "**Author: Damien Farrell**\n",
    "\n",
    "---\n"
   ]
  },
  {
   "cell_type": "markdown",
   "id": "53f4bdbd-37d9-48fa-abaa-19643dc1947e",
   "metadata": {},
   "source": [
    "#### Step 1: Data Pre-processing and Management\n",
    "1. **Dataset Preparation**:\n",
    "   - Work with provided uncompressed `.wav` files, which may contain large portions without any seal calls.\n",
    "   - Create a dataset from annotated data using the provided Jupyter notebook.\n",
    "   \n",
    "2. **Spectrogram Extraction**:\n",
    "   - Extract spectrograms for each seal call, ensuring consistent size by determining the longest call (in time) and the broadest in frequency.\n",
    "   - Save spectrograms as raw 2D arrays (not images) with metadata.\n",
    "\n",
    "3. **Handling No-Call Data**:\n",
    "   - Create \"no-call\" spectrograms from unannotated regions of recordings, ensuring they match the frequency region of call spectrograms."
   ]
  },
  {
   "cell_type": "code",
   "execution_count": null,
   "id": "23bcf263-372b-4b6d-bcd5-101cf6b0fe1b",
   "metadata": {},
   "outputs": [],
   "source": []
  }
 ],
 "metadata": {
  "kernelspec": {
   "display_name": "Python 3 (ipykernel)",
   "language": "python",
   "name": "python3"
  },
  "language_info": {
   "codemirror_mode": {
    "name": "ipython",
    "version": 3
   },
   "file_extension": ".py",
   "mimetype": "text/x-python",
   "name": "python",
   "nbconvert_exporter": "python",
   "pygments_lexer": "ipython3",
   "version": "3.12.8"
  }
 },
 "nbformat": 4,
 "nbformat_minor": 5
}
